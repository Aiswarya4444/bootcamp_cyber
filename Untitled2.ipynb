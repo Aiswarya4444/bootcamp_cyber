{
  "nbformat": 4,
  "nbformat_minor": 0,
  "metadata": {
    "colab": {
      "name": "Untitled2.ipynb",
      "provenance": []
    },
    "kernelspec": {
      "name": "python3",
      "display_name": "Python 3"
    },
    "language_info": {
      "name": "python"
    }
  },
  "cells": [
    {
      "cell_type": "code",
      "metadata": {
        "colab": {
          "base_uri": "https://localhost:8080/"
        },
        "id": "7QmHuvabZUZF",
        "outputId": "002c5e25-e9a6-45bb-8f2b-5a7743855531"
      },
      "source": [
        "import requests\n",
        "from datetime import datetime\n",
        "\n",
        "api_key = '913c9c894b232ef173a889b727d1fe29'\n",
        "location = input(\"Enter the city name: \")\n",
        "\n",
        "complete_api_link = \"https://api.openweathermap.org/data/2.5/weather?q=\"+location+\"&appid=\"+api_key\n",
        "api_link = requests.get(complete_api_link)\n",
        "api_data = api_link.json()\n",
        "\n",
        "temp_city = ((api_data['main']['temp']) - 273.15)\n",
        "weather_desc = api_data['weather'][0]['description']\n",
        "hmdt = api_data['main']['humidity']\n",
        "wind_spd = api_data['wind']['speed']\n",
        "date_time = datetime.now().strftime(\"%d %b %Y | %I:%M:%S %p\")\n",
        "\n",
        "print (\"-------------------------------------------------------------\")\n",
        "print (\"Weather Stats for - {} || {}\".format(location.upper(), date_time))\n",
        "print (\"-------------------------------------------------------------\")\n",
        "\n",
        "print (\"Current temperature is: {:.2f} deg C\".format(temp_city))\n",
        "print (\"Current weather desc :\",weather_desc)\n",
        "print (\"Current Humidity :\",hmdt, '%')\n",
        "print (\"Current wind speed :\",wind_spd ,'kmph')"
      ],
      "execution_count": 6,
      "outputs": [
        {
          "output_type": "stream",
          "text": [
            "Enter the city name: pune\n",
            "-------------------------------------------------------------\n",
            "Weather Stats for - PUNE || 23 Jun 2021 | 03:29:09 PM\n",
            "-------------------------------------------------------------\n",
            "Current temperature is: 24.57 deg C\n",
            "Current weather desc : overcast clouds\n",
            "Current Humidity : 79 %\n",
            "Current wind speed : 4.11 kmph\n"
          ],
          "name": "stdout"
        }
      ]
    }
  ]
}